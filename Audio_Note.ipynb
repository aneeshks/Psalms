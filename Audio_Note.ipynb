{
 "cells": [
  {
   "cell_type": "code",
   "execution_count": 6,
   "id": "6188f136-655f-453a-9bfa-e9003b8a55c8",
   "metadata": {},
   "outputs": [],
   "source": [
    "# pip install -U openai-whisper\n",
    "# brew install ffmpeg\n",
    "\n",
    "import whisper\n",
    "from tqdm import tqdm\n",
    "import os\n"
   ]
  },
  {
   "cell_type": "code",
   "execution_count": 2,
   "id": "612b9bea-e039-40ae-b778-45753f036cfc",
   "metadata": {},
   "outputs": [
    {
     "name": "stderr",
     "output_type": "stream",
     "text": [
      "100%|█████████████████████████████████████| 2.88G/2.88G [10:04<00:00, 5.11MiB/s]\n"
     ]
    }
   ],
   "source": [
    "# Load the best quality model\n",
    "model = whisper.load_model(\"large\")\n"
   ]
  },
  {
   "cell_type": "code",
   "execution_count": null,
   "id": "ff5131fd-2330-4d92-9e6c-7ea3893de164",
   "metadata": {},
   "outputs": [],
   "source": [
    "# /Users/ebenezer/Documents/NIS/MeetingNotes/Audio_05_16_2025_11_50_02.mp3\n",
    "# /Users/ebenezer/Documents/NIS/MeetingNotes/Audio_05_16_2025_13_13_20.mp3"
   ]
  },
  {
   "cell_type": "code",
   "execution_count": 4,
   "id": "10c95176-43f5-41fe-8e0c-5da115a7c245",
   "metadata": {},
   "outputs": [
    {
     "name": "stdout",
     "output_type": "stream",
     "text": [
      "Loading audio file: /Users/ebenezer/Documents/NIS/MeetingNotes/Audio_05_16_2025_11_50_02.mp3...\n",
      "Starting transcription for a 82.35 minute long audio file...\n"
     ]
    }
   ],
   "source": [
    "# Path to your long audio file\n",
    "audio_file = \"/Users/ebenezer/Documents/NIS/MeetingNotes/Audio_05_16_2025_11_50_02.mp3\"  # Change this to your audio file path\n",
    "\n",
    "# Step 1: Load the audio and calculate its duration\n",
    "print(f\"Loading audio file: {audio_file}...\")\n",
    "audio = whisper.load_audio(audio_file)\n",
    "duration = len(audio) / whisper.audio.SAMPLE_RATE  # in seconds\n",
    "\n",
    "# Step 2: Set chunk size and progress bar\n",
    "chunk_duration = 300  # Process in 5-minute (300 seconds) chunks\n",
    "total_chunks = int(duration / chunk_duration) + 1\n",
    "\n",
    "# Step 3: Transcribe in chunks and display progress\n",
    "print(f\"Starting transcription for a {duration / 60:.2f} minute long audio file...\")\n"
   ]
  },
  {
   "cell_type": "code",
   "execution_count": null,
   "id": "ca2df146-a13e-4acd-b8c6-18944c56a036",
   "metadata": {},
   "outputs": [
    {
     "name": "stderr",
     "output_type": "stream",
     "text": [
      "Transcribing:   0%|                                                           | 0/17 [00:00<?, ?chunk/s]/opt/anaconda3/lib/python3.12/site-packages/whisper/transcribe.py:126: UserWarning: FP16 is not supported on CPU; using FP32 instead\n",
      "  warnings.warn(\"FP16 is not supported on CPU; using FP32 instead\")\n"
     ]
    }
   ],
   "source": [
    "\n",
    "\n",
    "# Open a file to write the transcription incrementally\n",
    "output_path = \"/Users/ebenezer/Documents/NIS/MeetingNotes/transcription_long_Audio_05_16_2025_11_50_02_v1.txt\"\n",
    "with open(output_path, \"w\") as file:\n",
    "    with tqdm(total=total_chunks, desc=\"Transcribing\", unit=\"chunk\") as pbar:\n",
    "        for i in range(total_chunks):\n",
    "            # Calculate start and end times for each chunk\n",
    "            start = i * chunk_duration\n",
    "            end = min((i + 1) * chunk_duration, duration)\n",
    "\n",
    "            # Process the audio chunk\n",
    "            segment = audio[int(start * whisper.audio.SAMPLE_RATE):int(end * whisper.audio.SAMPLE_RATE)]\n",
    "\n",
    "            # Transcribe the audio chunk\n",
    "            result = model.transcribe(segment, language=\"en\")\n",
    "\n",
    "            # Save the transcribed text incrementally\n",
    "            file.write(result[\"text\"] + \"\\n\")\n",
    "            file.flush()\n",
    "\n",
    "            # Update the progress bar\n",
    "            pbar.update(1)\n",
    "\n",
    "            # Print interim progress text\n",
    "            print(f\"Chunk {i+1}/{total_chunks} transcribed: {result['text'][:50]}...\")\n",
    "\n",
    "print(f\"\\nTranscription completed! Full text saved to {output_path}\")"
   ]
  },
  {
   "cell_type": "code",
   "execution_count": null,
   "id": "ad6b9bed-893f-4b4a-8ee6-b56efb50a8ff",
   "metadata": {},
   "outputs": [],
   "source": []
  }
 ],
 "metadata": {
  "kernelspec": {
   "display_name": "Python 3 (ipykernel)",
   "language": "python",
   "name": "python3"
  },
  "language_info": {
   "codemirror_mode": {
    "name": "ipython",
    "version": 3
   },
   "file_extension": ".py",
   "mimetype": "text/x-python",
   "name": "python",
   "nbconvert_exporter": "python",
   "pygments_lexer": "ipython3",
   "version": "3.12.2"
  }
 },
 "nbformat": 4,
 "nbformat_minor": 5
}
